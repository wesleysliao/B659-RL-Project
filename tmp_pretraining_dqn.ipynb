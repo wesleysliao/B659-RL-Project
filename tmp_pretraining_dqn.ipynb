{
 "cells": [
  {
   "cell_type": "markdown",
   "metadata": {},
   "source": [
    "# Pretraining the TD Network\n",
    "\n",
    "Goal: approximating the value function for an actor being a fixed PID, (and the partner being another fixed PID.) \n",
    "The input to the network includes predicted observations."
   ]
  },
  {
   "cell_type": "markdown",
   "metadata": {},
   "source": [
    "Steps:\n",
    "\n",
    "Start with the skeleton of the supervised training.\n",
    "\n",
    "- Agents shold have subjective reward, PID, and perspective.\n",
    "    - agent inputs: observations/features, role\n",
    "    - agent output: force\n",
    "    - copy wesley's agents over.\n",
    "    - modify the action space to be binary. Convert role to force.\n",
    "  \n",
    "- value network: \n",
    "    - input: e, e', fn, fndot\n",
    "    - output: scalar\n",
    "    - some ground truth: $V_e=|\\int_0^e e\\prime d e\\prime| = 0.5e^2$ => polynomial approximation of e might work.\n",
    "    - $V_f=|\\int_t^T cf\\prime d e\\prime| = 0.5e^2$\n",
    "    - try 1-3 linear layers with ReLu.\n",
    "    - try: layer1=linear with large n, layer2=linear w/ glu, layer3= linear w glu, then maybe another layer 4: linear,\n",
    "    \n",
    "Dilemma: Should I \n",
    "1- Estimate V(s)\n",
    "pro: ground truth seems straightforward. but if R includes effort, R would be stochastic (in the absense of f) which may destabilize V(s).\n",
    "2- Estimate Q(s,a). The ground truth is still straight-forward.\n",
    "Choice: Q(s,a)\n",
    "\n",
    "- Make an additional copy as the target net.\n",
    "- Attach the model output to value input.\n",
    "- Calculate $V_{target}$ in Q-learning style. define loss. gradient update on network.\n",
    "\n",
    "\n",
    "Example of agent-environment API from RLLib:\n",
    "- https://github.com/ray-project/ray/blob/master/rllib/examples/custom_env.py\n",
    "- https://rllib.readthedocs.io/en/latest/rllib-examples.html"
   ]
  },
  {
   "cell_type": "code",
   "execution_count": 12,
   "metadata": {},
   "outputs": [],
   "source": [
    "import gym\n",
    "import math\n",
    "import random\n",
    "import numpy as np\n",
    "import matplotlib\n",
    "import matplotlib.pyplot as plt\n",
    "from collections import deque\n",
    "\n",
    "import torch\n",
    "import torch.nn as nn\n",
    "import torch.optim as optim\n",
    "import torch.nn.functional as F\n",
    "from torch.autograd import Variable\n",
    "from torch import FloatTensor as tarr\n",
    "from numpy import asarray as narr"
   ]
  },
  {
   "cell_type": "code",
   "execution_count": 13,
   "metadata": {},
   "outputs": [],
   "source": [
    "import sys, os\n",
    "import importlib, time\n",
    "from scipy.special import expit as sigmoid\n",
    "from functools import partial\n",
    "import numpy as np\n",
    "from numpy import asarray as narr\n",
    "import matplotlib.pyplot as plt\n",
    "\n",
    "import env\n",
    "importlib.reload(env)\n",
    "from env import PhysicalDyads"
   ]
  },
  {
   "cell_type": "code",
   "execution_count": 14,
   "metadata": {},
   "outputs": [],
   "source": [
    "# Agent class\n",
    "\n",
    "agent_dir = 'agents/'\n",
    "\n",
    "sys.path.append(agent_dir)\n",
    "sys.path.append('lib/')\n",
    "from agents.base import DyadSliderAgent\n",
    "from nn_models import NetL1, NetRelu3L1\n",
    "from lib.buffer import ReplayMemory, Transition\n",
    "import role_agent\n",
    "importlib.reload(role_agent)\n",
    "from role_agent import RolePDAgent"
   ]
  },
  {
   "cell_type": "code",
   "execution_count": 15,
   "metadata": {},
   "outputs": [],
   "source": [
    "pdcont1 = [0.1, .2]#[0., 0]#[0.3, 1.]#[0.0364, 1.]#[0.01, 0.03]\n",
    "pdcont2 = [0.2, 0.1]#[0., 0]#[0.3, 1.]#[0.0364, 1.]#[0.01, 0.03]\n",
    "sigma = 0.5\n",
    "agent1 = RolePDAgent(pdcont1, sigma=0.5, perspective=0)"
   ]
  },
  {
   "cell_type": "code",
   "execution_count": 16,
   "metadata": {},
   "outputs": [
    {
     "name": "stdout",
     "output_type": "stream",
     "text": [
      "-1.6321959135392388\n",
      "-1.08\n"
     ]
    }
   ],
   "source": [
    "print(agent1.get_force([0.2, 0.5, 1., 1.], role=0))\n",
    "print(agent1.compute_utility(-0.8, 0.28))"
   ]
  },
  {
   "cell_type": "code",
   "execution_count": 17,
   "metadata": {},
   "outputs": [],
   "source": [
    "# Neural Network models\n",
    "\n",
    "class NetReLu1L1(nn.Module):\n",
    "# Inputs:\n",
    "# r, r', x, x', f_n, f_n', f1\n",
    "# Outputs:\n",
    "# Q\n",
    "\n",
    "    def __init__(self, nin, nout):\n",
    "        super().__init__()\n",
    "        self.fc1 = nn.Linear(nin, 32)\n",
    "        self.bn1 = nn.BatchNorm1d(32)\n",
    "        self.fc2 = nn.Linear(32, nout)\n",
    "#         self.fc3 = nn.Linear(64, 64)\n",
    "#         self.fc4 = nn.Linear(64, nout)\n",
    "        \n",
    "    def forward(self, x):\n",
    "        z1 = F.relu(self.fc1(x))#self.bn1(F.relu(self.fc1(x)))\n",
    "        out = self.fc2(z1)\n",
    "#         z3 = F.relu(self.fc3(z2))\n",
    "#         out = self.fc4(z3)\n",
    "        return out\n",
    "    \n",
    "\n",
    "class NetGlu2L1(nn.Module):\n",
    "# Inputs:\n",
    "# r, r', x, x', f_n, f_n', f1\n",
    "# Outputs:\n",
    "# Q\n",
    "    def __init__(self, nin, nout):\n",
    "        super().__init__()\n",
    "        self.fc1 = nn.Linear(nin, 128)\n",
    "        self.fc2 = nn.Linear(128, 64)\n",
    "#         self.fc3 = nn.Linear(32, 32)\n",
    "        self.fc3 = nn.Linear(64, nout)\n",
    "        \n",
    "    def forward(self, x):\n",
    "        z1 = F.glu(self.fc1(x))\n",
    "        z2 = F.glu(self.fc2(z1))\n",
    "        out = self.fc3(z2)\n",
    "#         z3 = F.relu(self.fc3(z2))\n",
    "#         out = self.fc4(z3)\n",
    "        return out\n",
    "\n",
    "class NetL1b(nn.Module):\n",
    "# Inputs:\n",
    "# r, r', x, x', f_n, f_n', f1\n",
    "# Outputs:\n",
    "# dr, dr', dx, dx', df_n, df_n'\n",
    "    def __init__(self, nin, nout):\n",
    "        super().__init__()\n",
    "        self.fc1 = nn.Linear(nin, nout, bias=True)\n",
    "        \n",
    "    def forward(self, x):\n",
    "        out = self.fc1(x)\n",
    "        return out"
   ]
  },
  {
   "cell_type": "code",
   "execution_count": 18,
   "metadata": {},
   "outputs": [
    {
     "data": {
      "text/plain": [
       "array([[1, 2, 3, 2],\n",
       "       [1, 2, 3, 3],\n",
       "       [1, 2, 3, 5],\n",
       "       [1, 2, 3, 6]])"
      ]
     },
     "execution_count": 18,
     "metadata": {},
     "output_type": "execute_result"
    }
   ],
   "source": [
    "xtt=([1,2,3], [1,2,3],[1,2,3],[1,2,3])\n",
    "ytt=(2,3,5,6)\n",
    "# narr(ytt)[:,np.newaxis].shape\n",
    "# narr(xtt).shape\n",
    "np.concatenate( (narr(xtt), narr(ytt)[:,np.newaxis]),axis=1)"
   ]
  },
  {
   "cell_type": "code",
   "execution_count": 19,
   "metadata": {},
   "outputs": [
    {
     "ename": "ValueError",
     "evalue": "too many values to unpack (expected 2)",
     "output_type": "error",
     "traceback": [
      "\u001b[0;31m---------------------------------------------------------------------------\u001b[0m",
      "\u001b[0;31mValueError\u001b[0m                                Traceback (most recent call last)",
      "\u001b[0;32m<ipython-input-19-4c4f78450bcf>\u001b[0m in \u001b[0;36m<module>\u001b[0;34m\u001b[0m\n\u001b[1;32m      1\u001b[0m \u001b[0mxtt\u001b[0m \u001b[0;34m=\u001b[0m \u001b[0mnarr\u001b[0m\u001b[0;34m(\u001b[0m\u001b[0;34m[\u001b[0m\u001b[0;34m[\u001b[0m\u001b[0;36m1\u001b[0m\u001b[0;34m,\u001b[0m\u001b[0;36m2\u001b[0m\u001b[0;34m,\u001b[0m\u001b[0;36m3\u001b[0m\u001b[0;34m]\u001b[0m\u001b[0;34m,\u001b[0m\u001b[0;34m[\u001b[0m\u001b[0;36m7\u001b[0m\u001b[0;34m,\u001b[0m\u001b[0;36m3\u001b[0m\u001b[0;34m,\u001b[0m\u001b[0;36m6\u001b[0m\u001b[0;34m]\u001b[0m\u001b[0;34m]\u001b[0m\u001b[0;34m)\u001b[0m\u001b[0;34m\u001b[0m\u001b[0;34m\u001b[0m\u001b[0m\n\u001b[0;32m----> 2\u001b[0;31m \u001b[0;32mfor\u001b[0m \u001b[0mi\u001b[0m\u001b[0;34m,\u001b[0m \u001b[0mrow\u001b[0m \u001b[0;32min\u001b[0m \u001b[0mxtt\u001b[0m\u001b[0;34m:\u001b[0m\u001b[0;34m\u001b[0m\u001b[0;34m\u001b[0m\u001b[0m\n\u001b[0m\u001b[1;32m      3\u001b[0m     \u001b[0mprint\u001b[0m\u001b[0;34m(\u001b[0m\u001b[0;34m'i='\u001b[0m\u001b[0;34m,\u001b[0m \u001b[0mi\u001b[0m\u001b[0;34m,\u001b[0m \u001b[0;34m' row='\u001b[0m\u001b[0;34m,\u001b[0m \u001b[0mrow\u001b[0m\u001b[0;34m)\u001b[0m\u001b[0;34m\u001b[0m\u001b[0;34m\u001b[0m\u001b[0m\n",
      "\u001b[0;31mValueError\u001b[0m: too many values to unpack (expected 2)"
     ]
    }
   ],
   "source": [
    "xtt = narr([[1,2,3],[7,3,6]])\n",
    "for i, row in xtt:\n",
    "    print('i=', i, ' row=', row)"
   ]
  },
  {
   "cell_type": "code",
   "execution_count": 20,
   "metadata": {},
   "outputs": [],
   "source": [
    "# Simulate updating the Q network for one episode\n",
    "\n",
    "# load the model \n",
    "\n",
    "\n",
    "def train_qnet(env, agent1, agent2, optimizer, criterion, hyperparams, qnet, target_qnet, buffer):\n",
    "    \n",
    "        # required imports:\n",
    "    # numpy as np; torch\n",
    "\n",
    "    batch_size, _,_,_,_ = hyperparams\n",
    "    old_observations = env.reset(renew_traj=True); #old_observations = np.asarray(observations)\n",
    "    f1 = agent1.get_force(old_observations, qnet=target_qnet, eps=1)\n",
    "    f2 = agent2.get_force(old_observations, role=0)\n",
    "#     model_ftr = observations+[f1,f2]\n",
    "#     network_ftr = \n",
    "\n",
    "    while True:\n",
    "        t = env.get_time()\n",
    "        observations, reward, done, _ = env.step([f1, f2])\n",
    "#         observations_arr = np.asarray(observations)\n",
    "#         outcome = observations_arr-old_observations\n",
    "        utility = agent1.compute_utility(reward, f1)\n",
    "        \n",
    "        err = observations[0]-observations[2]\n",
    "        if err> env.max_err*buffer.tag:\n",
    "            buffer.push(old_observations, f1, observations, utility)\n",
    "\n",
    "        # Train the model\n",
    "        # Create a minibatch\n",
    "        if len(buffer)>1:\n",
    "            \n",
    "            batch_size_ = min(len(buffer), batch_size)\n",
    "            transitions = buffer.sample(batch_size_)\n",
    "            batch = Transition(*zip(*transitions))\n",
    "            # batch.state is a tuple. each entry is one sample.\n",
    "            # each sample is a list of the feature vars.\n",
    "            # For batch.action, batch.reward, the sample is a float.\n",
    "            sa_batch = np.concatenate( (narr(batch.state), narr(batch.action)[:,np.newaxis]),axis=1)\n",
    "            sa_batch = tarr(sa_batch)\n",
    "#             print('len(batch.reward[0])', len(batch.reward[0]))\n",
    "#             state_batch = torch.cat(tarr(batch.state))\n",
    "#             action_batch = torch.cat(tarr(batch.action))\n",
    "            \n",
    "            reward_batch = tarr(narr(batch.reward))\n",
    "            \n",
    "            next_s_batch = narr(batch.next_state)\n",
    "            \n",
    "            q_pred = qnet(sa_batch).view(-1)\n",
    "            target_qvals = reward_batch+ agent1.get_qvals(next_s_batch, target_qnet).max()\n",
    "            \n",
    "            \n",
    "            # Run one step of SGD using the whole batch data\n",
    "#             data, target = torch.from_numpy(data).float(), torch.from_numpy(target).float()\n",
    "            optimizer.zero_grad() #zero all of the gradients\n",
    "            loss = criterion(q_pred, target_qvals)\n",
    "            loss.backward()# Backward pass: compute gradient of the loss with respect to model parameters.\n",
    "            optimizer.step()# Update model parameters\n",
    "\n",
    "        ###\n",
    "        f1 = agent1.get_force(observations, qnet=target_qnet, eps=.1)\n",
    "        f2 = agent2.get_force(observations, role=0)\n",
    "        old_observations = observations\n",
    "#         ftr_vec =  observations+[f1, f2]\n",
    "\n",
    "        if done is True:\n",
    "            break\n",
    "    return qnet, buffer"
   ]
  },
  {
   "cell_type": "code",
   "execution_count": 21,
   "metadata": {},
   "outputs": [],
   "source": [
    "# Benchmark\n",
    "\n",
    "def policy_eval(env, agent1, agent2, qnet, n_episodes=100, normalizer=True):\n",
    "    # Empirical Model Evaluation\n",
    "    # For assessing the quality of the q network against a fixed agent.\n",
    "    # Arguments:\n",
    "    # n_episodes: the number of episodes used for averaging the quality of the policy\n",
    "    # normalize: if True, the reward is normalized by the number of time steps.\n",
    "\n",
    "#     all_loss = np.zeros((n_episodes, env.observation_space.shape[0]))\n",
    "    reward_vals = np.zeros(n_episodes)\n",
    "\n",
    "\n",
    "    for i_episode in range(n_episodes):\n",
    "        cum_reward = 0.\n",
    "#         ep_loss = torch.zeros(env.observation_space.shape[0])\n",
    "        observations = env.reset(renew_traj=True);# old_observations = np.asarray(observations)\n",
    "        f1 = agent1.get_force(observations, qnet=qnet, eps=1)\n",
    "        f2 = agent2.get_force(observations, role=0)\n",
    "#         ftr_vec = observations+[f1, f2]\n",
    "\n",
    "        while True:\n",
    "            t = env.get_time()\n",
    "            observations, reward, done, _ = env.step([f1, f2])\n",
    "            cum_reward += agent1.compute_utility(reward, f1)#reward\n",
    "#             observations_arr = np.asarray(observations)\n",
    "#             outcome = observations_arr-old_observations\n",
    "#             ftr_tensor, outcome_tensor = torch.FloatTensor(ftr_vec), torch.from_numpy(outcome).float()\n",
    "#             prediction = model(ftr_tensor)\n",
    "            \n",
    "#             ep_loss += abs(prediction-outcome_tensor)\n",
    "            \n",
    "            f1 = agent1.get_force(observations, qnet=qnet, eps=1)\n",
    "            f2 = agent2.get_force(observations, role=0)\n",
    "            \n",
    "#             old_observations = observations_arr\n",
    "#             ftr_vec =  observations+[f1, f2]\n",
    "\n",
    "            if done is True:\n",
    "                break\n",
    "#         ep_loss = ep_loss.detach().numpy() /t\n",
    "#         if normalizer is not None:\n",
    "#             all_loss[i_episode,:] = ep_loss /normalizer\n",
    "#         else:\n",
    "#             all_loss[i_episode,:] = ep_loss\n",
    "        if normalizer is True:\n",
    "            reward_vals[i_episode] = cum_reward /t\n",
    "        else:\n",
    "            reward_vals[i_episode] = cum_reward\n",
    "        \n",
    "    return np.mean(reward_vals, axis=0)\n",
    "    \n",
    "    \n",
    "def get_ftr_outcome_rms(env, actor1, actor2, n_episodes=1):\n",
    "    n_steps_max = env._max_episode_steps\n",
    "    \n",
    "    ftrs = []\n",
    "    outcomes = []\n",
    "\n",
    "    for i_episode in range(n_episodes):\n",
    "        ftr_i=[]; outcome_i = []\n",
    "        \n",
    "        observations = env.reset(renew_traj=True); old_observations = np.asarray(observations)\n",
    "        f1 = actor1(observations, 0.) #initalize s_old, a_old\n",
    "        f2 = actor2(observations, 0.)\n",
    "        ftr_vec = observations+[f1, f2]\n",
    "        ftr_i.append(ftr_vec)\n",
    "\n",
    "        while True:\n",
    "            t = env.get_time()\n",
    "            observations, reward, done, _ = env.step([f1, f2])\n",
    "            observations_arr = np.asarray(observations)\n",
    "            outcome = observations_arr-old_observations\n",
    "            outcome_i.append(outcome)\n",
    "            \n",
    "            f1 = actor1(observations, f1)\n",
    "            f2 = actor2(observations, f2)\n",
    "            old_observations = observations_arr\n",
    "            ftr_vec =  observations+[f1, f2]\n",
    "\n",
    "            if done is True:\n",
    "                break\n",
    "   \n",
    "        ftrs.append(ndrms(np.asarray(ftr_i), axis=0))\n",
    "        outcomes.append(ndrms(np.asarray(outcome_i), axis=0))\n",
    "        \n",
    "    ftrs_rms = np.mean(np.asarray(ftrs), axis=0)\n",
    "    outcomes_rms = np.mean(np.asarray(outcomes), axis=0)\n",
    "    return ftrs_rms, outcomes_rms\n",
    "    \n",
    "    \n",
    "def benchmark(algo, hyperparams, qnet, target_qnet, env, agent1, agent2, xaxis_params):\n",
    "    # Creates time series for algorithm quality across episodes\n",
    "    \n",
    "    target_qnet.load_state_dict(qnet.state_dict())\n",
    "    target_qnet.eval()\n",
    "    \n",
    "    # Unzip arguments\n",
    "    batch_size, _, buffer_max_size, experience_sift_tol, target_int = hyperparams\n",
    "    n_episodes, n_intervals, n_eval = xaxis_params\n",
    "    int_episodes=int(n_episodes/n_intervals)\n",
    "#     # train(env, actor, optimizer, criterion, hyperparams, model, buffer)\n",
    "#     algo = partial(train, env, actor, optimizer, criterion)\n",
    "    \n",
    "    buffer = ReplayMemory(buffer_max_size, tag=experience_sift_tol)\n",
    "    \n",
    "    x, y = np.zeros(n_intervals+1), np.zeros(n_intervals+1)#np.zeros((env.observation_space.shape[0], n_intervals+1))\n",
    "    \n",
    "#     _, outcomes_rms = get_ftr_outcome_rms(env, agent1, agent2, n_episodes=3)\n",
    "#     outcomes_rms += 0.00001*(outcomes_rms==0)\n",
    "    \n",
    "#     print(\"outcomes_rm = \", outcomes_rms)\n",
    "    x[0] = 0\n",
    "    y[0] = policy_eval(env, agent1, agent2, target_qnet, n_episodes=n_eval, normalizer=True)#outcomes_rms)\n",
    "#     y[:,0] = policy_eval(env, agent1, agent2, qnet, n_episodes=n_eval, normalizer=None)#outcomes_rms)\n",
    "    \n",
    "    # Evaluate the created policy once every int_episodes episodes\n",
    "    for i in range(n_intervals):\n",
    "#         if i%10==0: \n",
    "        print('interval ', i, ': loss= ', y[i])#y[:,i])\n",
    "        \n",
    "        for j in range(int_episodes):\n",
    "            qnet, buffer = algo(hyperparams, qnet, target_qnet, buffer)\n",
    "            if i*int_episodes+j % target_int == 0:\n",
    "                target_qnet.load_state_dict(qnet.state_dict())\n",
    "            \n",
    "#             model, buffer = algo(hyperparams, model, buffer)\n",
    "        x[i+1] = (i+1)*int_episodes\n",
    "        y[i+1] = policy_eval(env, agent1, agent2, target_qnet, n_episodes=n_eval, normalizer=True)\n",
    "#         y[:, i+1] = model_eval(env, agent1, agent2, model, n_episodes=n_eval, normalizer=outcomes_rms)\n",
    "\n",
    "    return x,y, qnet\n",
    "        "
   ]
  },
  {
   "cell_type": "code",
   "execution_count": 22,
   "metadata": {},
   "outputs": [],
   "source": [
    "importlib.reload(role_agent)\n",
    "from role_agent import RolePDAgent"
   ]
  },
  {
   "cell_type": "code",
   "execution_count": 23,
   "metadata": {},
   "outputs": [
    {
     "name": "stdout",
     "output_type": "stream",
     "text": [
      "interval  0 : loss=  -0.1863510282452796\n",
      "interval  1 : loss=  -0.1708320775545053\n",
      "interval  2 : loss=  -0.185313086722515\n",
      "interval  3 : loss=  -0.1695959085493716\n",
      "interval  4 : loss=  -0.17161347434411028\n",
      "interval  5 : loss=  -0.18051519869490995\n",
      "interval  6 : loss=  -0.18471482949565762\n",
      "interval  7 : loss=  -0.18108619769142648\n",
      "elapsed_t:  194.19857811927795\n"
     ]
    },
    {
     "data": {
      "text/plain": [
       "[<matplotlib.lines.Line2D at 0x7fc4d5761a90>]"
      ]
     },
     "execution_count": 23,
     "metadata": {},
     "output_type": "execute_result"
    },
    {
     "data": {
      "image/png": "[encoded data removed]",
      "text/plain": [
       "<Figure size 432x288 with 1 Axes>"
      ]
     },
     "metadata": {
      "needs_background": "light"
     },
     "output_type": "display_data"
    }
   ],
   "source": [
    "# Main\n",
    "\n",
    "# Fixed objects and hyperparameters\n",
    "# pdcont = [0.6, 2.]#[0., 0]#[0.3, 1.]#[0.0364, 1.]#[0.01, 0.03]\n",
    "pdcont1 = [0.1, .2]#[0., 0]#[0.3, 1.]#[0.0364, 1.]#[0.01, 0.03]\n",
    "pdcont2 = [0.2, 0.1]#[0., 0]#[0.3, 1.]#[0.0364, 1.]#[0.01, 0.03]\n",
    "sigma = 0. #0.3\n",
    "agent1 = RolePDAgent(pdcont1, sigma=sigma, perspective=0, c_error=1., c_effort=0.)\n",
    "agent2 = RolePDAgent(pdcont2, sigma=sigma, perspective=1)\n",
    "# sigma = 1.\n",
    "# agent1 = PDAgent('pd_agent', pdcont, sigma)\n",
    "seed = 1234\n",
    "env = PhysicalDyads(seed_=seed, max_freq=0.2)\n",
    "#___________________________________________\n",
    "\n",
    "\n",
    "#Benchmark x-axis related\n",
    "n_episodes = 30\n",
    "n_intervals = 5 \n",
    "n_eval = 5\n",
    "\n",
    "# Buffer-related\n",
    "experience_sift_tol = 0.01\n",
    "buffer_max_size = 10000\n",
    "\n",
    "# Algo hyperparams\n",
    "learning_rate=0.001\n",
    "batch_size=32 #128\n",
    "target_int = 1\n",
    "# initializer = None\n",
    "\n",
    "# NN models\n",
    "env_model = NetL1(8,6)\n",
    "env_model.load_state_dict(torch.load('data/env_model_sd.pth'))\n",
    "env_model.eval() # set dropout and batch normalization layers to evaluation mode \n",
    "\n",
    "# qnet = NetL1(7, 1)\n",
    "# target_qnet = NetL1(7, 1)\n",
    "\n",
    "qnet = NetReLu1L1(7, 1)\n",
    "target_qnet = NetReLu1L1(7, 1)\n",
    "\n",
    "# qnet = NetL1b(7, 1)\n",
    "# target_qnet = NetL1b(7, 1)\n",
    "\n",
    "# qnet = NetRelu3L1(7, 1)\n",
    "# target_qnet = NetRelu3L1(7, 1)\n",
    "\n",
    "# Input:\n",
    "# r, r', x, x', fn, fndot, f\n",
    "# Output: q\n",
    "\n",
    "# actor1 = agent1.get_force\n",
    "# actor2 = agent2.get_force\n",
    "\n",
    "optimizer = optim.Adam(qnet.parameters(), lr=learning_rate)\n",
    "criterion = nn.MSELoss()\n",
    "hyperparams = (batch_size, learning_rate, buffer_max_size, experience_sift_tol, target_int)\n",
    "xaxis_params = (n_episodes, n_intervals, n_eval)\n",
    "\n",
    "t0 = time.time()\n",
    "# train(env, actor, optimizer, criterion, hyperparams, model, buffer)\n",
    "algo = partial(train_qnet, env, agent1, agent2, optimizer, criterion)\n",
    "x_f1, y_f1, qnet_f1 = benchmark(algo, hyperparams, qnet, target_qnet, env, agent1, agent2, xaxis_params)\n",
    "elapsed_t = time.time() - t0\n",
    "print('elapsed_t: ', elapsed_t)\n",
    "\n",
    "plt.plot(x_f1, y_f1)"
   ]
  },
  {
   "cell_type": "code",
   "execution_count": 27,
   "metadata": {},
   "outputs": [
    {
     "data": {
      "text/plain": [
       "-0.18302319744837156"
      ]
     },
     "execution_count": 27,
     "metadata": {},
     "output_type": "execute_result"
    }
   ],
   "source": [
    "# importlib.reload(role_agent)\n",
    "# from role_agent import RolePDAgent\n",
    "\n",
    "agent1 = RolePDAgent(pdcont1, sigma=sigma, perspective=0, c_error=1., c_effort=0.)\n",
    "# agent1 = RolePDAgent(pdcont1, sigma=sigma, perspective=0, role=0)\n",
    "agent2 = RolePDAgent(pdcont2, sigma=sigma, perspective=1)\n",
    "\n",
    "policy_eval(env, agent1, agent2, qnet_f1, n_episodes=3, normalizer=True)"
   ]
  },
  {
   "cell_type": "code",
   "execution_count": 30,
   "metadata": {},
   "outputs": [],
   "source": [
    "def policy_ts(env, agent1, agent2, qnet):\n",
    "    # Behavioral profile of the agents\n",
    "    # Returns time series of events in an episode\n",
    "    # Arguments:\n",
    "    # normalize: if True, the reward is normalized by the number of time steps.\n",
    "    eps=0; verbose=True\n",
    "    \n",
    "#         ep_loss = torch.zeros(env.observation_space.shape[0])\n",
    "    observations = env.reset(renew_traj=True);# old_observations = np.asarray(observations)\n",
    "    f1, q1vals = agent1.get_force(observations, qnet=qnet, eps=eps, verbose=verbose)\n",
    "    f2 = agent2.get_force(observations, role=0)\n",
    "#         ftr_vec = observations+[f1, f2]\n",
    "    \n",
    "    t_ts=[]\n",
    "    r_ts, x_ts = [],[]\n",
    "    f1_ts, f2_ts = [],[]\n",
    "    u1_ts = []; cum_reward = 0.\n",
    "    q10_ts, q11_ts = [],[]\n",
    "    \n",
    "    while True:\n",
    "        t = env.get_time()\n",
    "        observations, reward, done, _ = env.step([f1, f2])\n",
    "        \n",
    "        t_ts.append(t)\n",
    "        r_ts.append(observations[0]); x_ts.append(observations[2]) # Logging\n",
    "        f1_ts.append(f1) # Logging; \n",
    "        f2_ts.append(f2) # Logging\n",
    "        q10_ts.append(q1vals[0])\n",
    "        q11_ts.append(q1vals[1])\n",
    "    \n",
    "        cum_reward += reward#reward\n",
    "        u1_ts.append(agent1.compute_utility(reward, f1))#reward\n",
    "\n",
    "#         f1, q1vals = agent1.get_force(observations, qnet=qnet, eps=eps, verbose=verbose)\n",
    "        f1 = agent1.get_force(observations, role=0)\n",
    "        f2 = agent2.get_force(observations, role=0)\n",
    "\n",
    "        if done is True:\n",
    "            break\n",
    "\n",
    "    cum_reward = cum_reward /t\n",
    "    a1_cum_reward = np.mean(u1_ts)\n",
    "        \n",
    "    return t_ts, (r_ts,x_ts), (f1_ts, f2_ts), (q10_ts, q11_ts), (u1_ts, cum_reward, a1_cum_reward)"
   ]
  },
  {
   "cell_type": "code",
   "execution_count": 33,
   "metadata": {},
   "outputs": [],
   "source": [
    "agent1 = RolePDAgent(pdcont1, sigma=0., perspective=0, c_error=1., c_effort=1.)\n",
    "agent2 = RolePDAgent(pdcont2, sigma=0., perspective=1)\n",
    "t_ts, rx_ts, forces_ts, qvals_ts, rewards = policy_ts(env, agent1, agent2, qnet_f1) \n",
    "qval_diff = narr(qvals_ts[0])-narr(qvals_ts[1])\n",
    "role0 = qval_diff>0"
   ]
  },
  {
   "cell_type": "code",
   "execution_count": 34,
   "metadata": {},
   "outputs": [
    {
     "name": "stdout",
     "output_type": "stream",
     "text": [
      "Env Reward =  -0.15262709644888492  Agent Mean Utility =  -0.17661554820256753\n"
     ]
    },
    {
     "data": {
      "text/plain": [
       "Text(0.5, 0, 'Time Steps')"
      ]
     },
     "execution_count": 34,
     "metadata": {},
     "output_type": "execute_result"
    },
    {
     "data": {
      "image/png": "[encoded data removed]",
      "text/plain": [
       "<Figure size 432x576 with 4 Axes>"
      ]
     },
     "metadata": {
      "needs_background": "light"
     },
     "output_type": "display_data"
    }
   ],
   "source": [
    "print('Env Reward = ', rewards[1], ' Agent Mean Utility = ', rewards[2])\n",
    "fig,ax = plt.subplots(4, figsize=(6,8), sharex=True)\n",
    "ax[0].plot(t_ts, rx_ts[0], label='ref'); \n",
    "ax[0].plot(t_ts, rx_ts[1], label='cursor')\n",
    "ax[0].plot(t_ts, role0*np.mean(abs(narr(rx_ts[0]))),ls='--', label='f1>0');\n",
    "ax[0].set_ylabel('Tracking Profile'); ax[0].legend()\n",
    "# print('r mean = ', np.mean(abs(env.traj[0])))\n",
    "\n",
    "ax[1].plot(t_ts, forces_ts[0], label='f1'); \n",
    "ax[1].plot(t_ts, forces_ts[1], label='f2'); \n",
    "ax[1].set_ylabel('Forces'); ax[1].legend()\n",
    "\n",
    "ax[2].plot(t_ts, qval_diff); ax[2].set_ylabel('Q_lead - Q_follow')\n",
    "# ax[2].plot(t_ts, qvals_ts[1], label='q_follow'); \n",
    "# ax[2].set_ylabel('Action Quality'); ax[2].legend()\n",
    "\n",
    "ax[3].plot(t_ts, rewards[0]); _=ax[3].set_ylabel('Agent1 Utility')\n",
    "ax[-1].set_xlabel('Time Steps')"
   ]
  }
 ],
 "metadata": {
  "kernelspec": {
   "display_name": "Python 3",
   "language": "python",
   "name": "python3"
  },
  "language_info": {
   "codemirror_mode": {
    "name": "ipython",
    "version": 3
   },
   "file_extension": ".py",
   "mimetype": "text/x-python",
   "name": "python",
   "nbconvert_exporter": "python",
   "pygments_lexer": "ipython3",
   "version": "3.6.8"
  }
 },
 "nbformat": 4,
 "nbformat_minor": 2
}
